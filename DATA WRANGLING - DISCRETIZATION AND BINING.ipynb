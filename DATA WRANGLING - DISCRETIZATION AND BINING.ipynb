{
 "cells": [
  {
   "cell_type": "markdown",
   "id": "14ef6498",
   "metadata": {},
   "source": [
    "in this lab, we will explore a variety of activities using the \"Exercise and Fitness Metrics\" dataset, employing powerful Pandas techniques. Let's dive into the intriguing activities we will cover:\n",
    "\n",
    "Discretization and Binning: Utilizing pd.cut and pd.qcut, we will categorize continuous variables into bins or quantiles. By grouping the data into predefined ranges, we can analyze the distribution of exercise-related metrics and investigate potential correlations with other variables.\n",
    "\n",
    "Creating Binary Indicators: Leveraging pd.get_dummies, we will generate binary indicators for different types present in each categorical column. This technique is particularly useful when we want to represent categorical data in a format suitable for analysis or modeling."
   ]
  },
  {
   "cell_type": "code",
   "execution_count": 1,
   "id": "dca8b49c",
   "metadata": {},
   "outputs": [],
   "source": [
    "# to read the dataframe\n",
    "import pandas as pd\n",
    "# For mathematical calculations\n",
    "import numpy as np"
   ]
  },
  {
   "cell_type": "markdown",
   "id": "c6051be7",
   "metadata": {},
   "source": [
    "# Reading the dataset as a dataframe"
   ]
  },
  {
   "cell_type": "code",
   "execution_count": 2,
   "id": "d647bf82",
   "metadata": {},
   "outputs": [],
   "source": [
    "# Reading dataframes\n",
    "exercises_df = pd.read_csv('exercise_dataset.csv')"
   ]
  },
  {
   "cell_type": "code",
   "execution_count": 3,
   "id": "f5c5e0da",
   "metadata": {},
   "outputs": [
    {
     "data": {
      "text/html": [
       "<div>\n",
       "<style scoped>\n",
       "    .dataframe tbody tr th:only-of-type {\n",
       "        vertical-align: middle;\n",
       "    }\n",
       "\n",
       "    .dataframe tbody tr th {\n",
       "        vertical-align: top;\n",
       "    }\n",
       "\n",
       "    .dataframe thead th {\n",
       "        text-align: right;\n",
       "    }\n",
       "</style>\n",
       "<table border=\"1\" class=\"dataframe\">\n",
       "  <thead>\n",
       "    <tr style=\"text-align: right;\">\n",
       "      <th></th>\n",
       "      <th>ID</th>\n",
       "      <th>Exercise</th>\n",
       "      <th>Calories Burn</th>\n",
       "      <th>Dream Weight</th>\n",
       "      <th>Actual Weight</th>\n",
       "      <th>Age</th>\n",
       "      <th>Gender</th>\n",
       "      <th>Duration</th>\n",
       "      <th>Heart Rate</th>\n",
       "      <th>BMI</th>\n",
       "      <th>Weather Conditions</th>\n",
       "      <th>Exercise Intensity</th>\n",
       "    </tr>\n",
       "  </thead>\n",
       "  <tbody>\n",
       "    <tr>\n",
       "      <th>0</th>\n",
       "      <td>1</td>\n",
       "      <td>Exercise 2</td>\n",
       "      <td>286.959851</td>\n",
       "      <td>91.892531</td>\n",
       "      <td>96.301115</td>\n",
       "      <td>45</td>\n",
       "      <td>Male</td>\n",
       "      <td>37</td>\n",
       "      <td>170</td>\n",
       "      <td>29.426275</td>\n",
       "      <td>Rainy</td>\n",
       "      <td>5</td>\n",
       "    </tr>\n",
       "    <tr>\n",
       "      <th>1</th>\n",
       "      <td>2</td>\n",
       "      <td>Exercise 7</td>\n",
       "      <td>343.453036</td>\n",
       "      <td>64.165097</td>\n",
       "      <td>61.104668</td>\n",
       "      <td>25</td>\n",
       "      <td>Male</td>\n",
       "      <td>43</td>\n",
       "      <td>142</td>\n",
       "      <td>21.286346</td>\n",
       "      <td>Rainy</td>\n",
       "      <td>5</td>\n",
       "    </tr>\n",
       "    <tr>\n",
       "      <th>2</th>\n",
       "      <td>3</td>\n",
       "      <td>Exercise 4</td>\n",
       "      <td>261.223465</td>\n",
       "      <td>70.846224</td>\n",
       "      <td>71.766724</td>\n",
       "      <td>20</td>\n",
       "      <td>Male</td>\n",
       "      <td>20</td>\n",
       "      <td>148</td>\n",
       "      <td>27.899592</td>\n",
       "      <td>Cloudy</td>\n",
       "      <td>4</td>\n",
       "    </tr>\n",
       "    <tr>\n",
       "      <th>3</th>\n",
       "      <td>4</td>\n",
       "      <td>Exercise 5</td>\n",
       "      <td>127.183858</td>\n",
       "      <td>79.477008</td>\n",
       "      <td>82.984456</td>\n",
       "      <td>33</td>\n",
       "      <td>Male</td>\n",
       "      <td>39</td>\n",
       "      <td>170</td>\n",
       "      <td>33.729552</td>\n",
       "      <td>Sunny</td>\n",
       "      <td>10</td>\n",
       "    </tr>\n",
       "    <tr>\n",
       "      <th>4</th>\n",
       "      <td>5</td>\n",
       "      <td>Exercise 10</td>\n",
       "      <td>416.318374</td>\n",
       "      <td>89.960226</td>\n",
       "      <td>85.643174</td>\n",
       "      <td>29</td>\n",
       "      <td>Female</td>\n",
       "      <td>34</td>\n",
       "      <td>118</td>\n",
       "      <td>23.286113</td>\n",
       "      <td>Cloudy</td>\n",
       "      <td>3</td>\n",
       "    </tr>\n",
       "  </tbody>\n",
       "</table>\n",
       "</div>"
      ],
      "text/plain": [
       "   ID     Exercise  Calories Burn  Dream Weight  Actual Weight  Age  Gender  \\\n",
       "0   1   Exercise 2     286.959851     91.892531      96.301115   45    Male   \n",
       "1   2   Exercise 7     343.453036     64.165097      61.104668   25    Male   \n",
       "2   3   Exercise 4     261.223465     70.846224      71.766724   20    Male   \n",
       "3   4   Exercise 5     127.183858     79.477008      82.984456   33    Male   \n",
       "4   5  Exercise 10     416.318374     89.960226      85.643174   29  Female   \n",
       "\n",
       "   Duration  Heart Rate        BMI Weather Conditions  Exercise Intensity  \n",
       "0        37         170  29.426275              Rainy                   5  \n",
       "1        43         142  21.286346              Rainy                   5  \n",
       "2        20         148  27.899592             Cloudy                   4  \n",
       "3        39         170  33.729552              Sunny                  10  \n",
       "4        34         118  23.286113             Cloudy                   3  "
      ]
     },
     "execution_count": 3,
     "metadata": {},
     "output_type": "execute_result"
    }
   ],
   "source": [
    "exercises_df.head()\n"
   ]
  },
  {
   "cell_type": "markdown",
   "id": "29f8aee3",
   "metadata": {},
   "source": [
    "# Discovering the dataset"
   ]
  },
  {
   "cell_type": "code",
   "execution_count": 4,
   "id": "ce5a8e41",
   "metadata": {},
   "outputs": [
    {
     "name": "stdout",
     "output_type": "stream",
     "text": [
      "exercises dataframe size:  46368\n",
      "number of exercises:  3864\n"
     ]
    }
   ],
   "source": [
    "#show the number of cells in the dataframe\n",
    "print(\"exercises dataframe size: \", exercises_df.size)\n",
    "\n",
    "#show the number of records (rows) in the dataframe\n",
    "print(\"number of exercises: \", len(exercises_df))"
   ]
  },
  {
   "cell_type": "code",
   "execution_count": 5,
   "id": "a7d9dd4c",
   "metadata": {},
   "outputs": [
    {
     "data": {
      "text/plain": [
       "ID                      int64\n",
       "Exercise               object\n",
       "Calories Burn         float64\n",
       "Dream Weight          float64\n",
       "Actual Weight         float64\n",
       "Age                     int64\n",
       "Gender                 object\n",
       "Duration                int64\n",
       "Heart Rate              int64\n",
       "BMI                   float64\n",
       "Weather Conditions     object\n",
       "Exercise Intensity      int64\n",
       "dtype: object"
      ]
     },
     "execution_count": 5,
     "metadata": {},
     "output_type": "execute_result"
    }
   ],
   "source": [
    "exercises_df.dtypes"
   ]
  },
  {
   "cell_type": "code",
   "execution_count": 6,
   "id": "f54cf0a9",
   "metadata": {},
   "outputs": [
    {
     "name": "stdout",
     "output_type": "stream",
     "text": [
      "<class 'pandas.core.frame.DataFrame'>\n",
      "RangeIndex: 3864 entries, 0 to 3863\n",
      "Data columns (total 12 columns):\n",
      " #   Column              Non-Null Count  Dtype  \n",
      "---  ------              --------------  -----  \n",
      " 0   ID                  3864 non-null   int64  \n",
      " 1   Exercise            3864 non-null   object \n",
      " 2   Calories Burn       3864 non-null   float64\n",
      " 3   Dream Weight        3864 non-null   float64\n",
      " 4   Actual Weight       3864 non-null   float64\n",
      " 5   Age                 3864 non-null   int64  \n",
      " 6   Gender              3864 non-null   object \n",
      " 7   Duration            3864 non-null   int64  \n",
      " 8   Heart Rate          3864 non-null   int64  \n",
      " 9   BMI                 3864 non-null   float64\n",
      " 10  Weather Conditions  3864 non-null   object \n",
      " 11  Exercise Intensity  3864 non-null   int64  \n",
      "dtypes: float64(4), int64(5), object(3)\n",
      "memory usage: 362.4+ KB\n"
     ]
    }
   ],
   "source": [
    "exercises_df.info()"
   ]
  },
  {
   "cell_type": "markdown",
   "id": "c4133224",
   "metadata": {},
   "source": [
    "Classify age into categories"
   ]
  },
  {
   "cell_type": "code",
   "execution_count": 7,
   "id": "b0a9ab5d",
   "metadata": {},
   "outputs": [
    {
     "data": {
      "text/plain": [
       "0       Adult\n",
       "1       Young\n",
       "2       Young\n",
       "3       Adult\n",
       "4       Young\n",
       "        ...  \n",
       "3859    Young\n",
       "3860    Young\n",
       "3861    Adult\n",
       "3862    Adult\n",
       "3863    Adult\n",
       "Name: AgeGroup, Length: 3864, dtype: category\n",
       "Categories (3, object): ['Young' < 'Adult' < 'Senior']"
      ]
     },
     "execution_count": 7,
     "metadata": {},
     "output_type": "execute_result"
    }
   ],
   "source": [
    "#To analyze exercise habits across different age groups, we need to categorize the Age column into meaningful groups. Create three age categories:\n",
    "\n",
    "#Young: 0-30\n",
    "#Adult: 30-60\n",
    "#Senior: above 60\n",
    "exercises_df['AgeGroup'] = pd.cut(exercises_df['Age'], bins=[0, 30, 60, 100], labels=[\"Young\", \"Adult\", \"Senior\"])\n",
    "exercises_df['AgeGroup']"
   ]
  },
  {
   "cell_type": "markdown",
   "id": "0501e5f0",
   "metadata": {},
   "source": [
    "Categorize Actual Weight into Weight Categories"
   ]
  },
  {
   "cell_type": "code",
   "execution_count": 9,
   "id": "72e064c2",
   "metadata": {},
   "outputs": [
    {
     "data": {
      "text/plain": [
       "0          Overweight\n",
       "1       Normal Weight\n",
       "2       Normal Weight\n",
       "3          Overweight\n",
       "4          Overweight\n",
       "            ...      \n",
       "3859       Overweight\n",
       "3860       Overweight\n",
       "3861       Overweight\n",
       "3862    Normal Weight\n",
       "3863      Lightweight\n",
       "Name: WeightCategory, Length: 3864, dtype: category\n",
       "Categories (3, object): ['Lightweight' < 'Normal Weight' < 'Overweight']"
      ]
     },
     "execution_count": 9,
     "metadata": {},
     "output_type": "execute_result"
    }
   ],
   "source": [
    " #To analyze exercise habits across different weight ranges, we need to categorize the Actual Weight into meaningful groups. Create three weight categories:\n",
    "\n",
    "#Lightweight: 0-60\n",
    "#Normal Weight: 60-80\n",
    "#Overweight: above 80\n",
    "\n",
    "exercises_df['WeightCategory'] = pd.cut(exercises_df['Actual Weight'], \n",
    "                                        bins=[0, 60, 80, np.inf], \n",
    "                                        labels=[\"Lightweight\", \"Normal Weight\", \"Overweight\"])\n",
    "\n",
    "exercises_df['WeightCategory'] \n",
    "\n",
    "#p.inf is used to indicate infinity, in this case any value above 80. Using this instead of a hard number like 200 ensures the solution is robust against future data varia"
   ]
  },
  {
   "cell_type": "markdown",
   "id": "f0e40a84",
   "metadata": {},
   "source": [
    "Categorize Exercise Durations into Meaningful Groups\n",
    "we want to categorize exercise durations into three meaningful groups: Sedentary, Moderate, and Active. By doing this, we can analyze exercise habits across different duration ranges such as 0, 25, 50, and inf.\n",
    "\n",
    "Here are the steps to complete the task:\n",
    "\n",
    "Create a new column named ExerciseLevel. Categorize each exercise duration according to the following ranges:\n",
    "\n",
    "Sedentary: duration less than 25 minutes. Moderate: duration between 25 and 50 minutes (inclusive). Active: duration greater than 50 minutes. Store the categorization result in the ExerciseLevel column."
   ]
  },
  {
   "cell_type": "code",
   "execution_count": 10,
   "id": "58747b3c",
   "metadata": {},
   "outputs": [
    {
     "data": {
      "text/plain": [
       "0        Moderate\n",
       "1        Moderate\n",
       "2       Sedentary\n",
       "3        Moderate\n",
       "4        Moderate\n",
       "          ...    \n",
       "3859    Sedentary\n",
       "3860     Moderate\n",
       "3861       Active\n",
       "3862       Active\n",
       "3863    Sedentary\n",
       "Name: ExerciseLevel, Length: 3864, dtype: category\n",
       "Categories (3, object): ['Sedentary' < 'Moderate' < 'Active']"
      ]
     },
     "execution_count": 10,
     "metadata": {},
     "output_type": "execute_result"
    }
   ],
   "source": [
    "exercises_df['ExerciseLevel'] = pd.cut(exercises_df['Duration'], bins=[0, 25, 50,  np.inf], labels=[\"Sedentary\", \"Moderate\", \"Active\"])\n",
    "exercises_df['ExerciseLevel']"
   ]
  },
  {
   "cell_type": "markdown",
   "id": "18f032ac",
   "metadata": {},
   "source": [
    "Generate Gender dummy variables with a colon separator"
   ]
  },
  {
   "cell_type": "code",
   "execution_count": 11,
   "id": "6f656b6c",
   "metadata": {},
   "outputs": [],
   "source": [
    "#Generate dummy variables for the Gender column and store the result in the variable gender_dummies. Each variable should be prefixed with Gender using a colon : separator.\n"
   ]
  },
  {
   "cell_type": "code",
   "execution_count": 12,
   "id": "e6a7a759",
   "metadata": {},
   "outputs": [
    {
     "data": {
      "text/html": [
       "<div>\n",
       "<style scoped>\n",
       "    .dataframe tbody tr th:only-of-type {\n",
       "        vertical-align: middle;\n",
       "    }\n",
       "\n",
       "    .dataframe tbody tr th {\n",
       "        vertical-align: top;\n",
       "    }\n",
       "\n",
       "    .dataframe thead th {\n",
       "        text-align: right;\n",
       "    }\n",
       "</style>\n",
       "<table border=\"1\" class=\"dataframe\">\n",
       "  <thead>\n",
       "    <tr style=\"text-align: right;\">\n",
       "      <th></th>\n",
       "      <th>Gender:Female</th>\n",
       "      <th>Gender:Male</th>\n",
       "    </tr>\n",
       "  </thead>\n",
       "  <tbody>\n",
       "    <tr>\n",
       "      <th>0</th>\n",
       "      <td>0</td>\n",
       "      <td>1</td>\n",
       "    </tr>\n",
       "    <tr>\n",
       "      <th>1</th>\n",
       "      <td>0</td>\n",
       "      <td>1</td>\n",
       "    </tr>\n",
       "    <tr>\n",
       "      <th>2</th>\n",
       "      <td>0</td>\n",
       "      <td>1</td>\n",
       "    </tr>\n",
       "    <tr>\n",
       "      <th>3</th>\n",
       "      <td>0</td>\n",
       "      <td>1</td>\n",
       "    </tr>\n",
       "    <tr>\n",
       "      <th>4</th>\n",
       "      <td>1</td>\n",
       "      <td>0</td>\n",
       "    </tr>\n",
       "    <tr>\n",
       "      <th>...</th>\n",
       "      <td>...</td>\n",
       "      <td>...</td>\n",
       "    </tr>\n",
       "    <tr>\n",
       "      <th>3859</th>\n",
       "      <td>1</td>\n",
       "      <td>0</td>\n",
       "    </tr>\n",
       "    <tr>\n",
       "      <th>3860</th>\n",
       "      <td>1</td>\n",
       "      <td>0</td>\n",
       "    </tr>\n",
       "    <tr>\n",
       "      <th>3861</th>\n",
       "      <td>0</td>\n",
       "      <td>1</td>\n",
       "    </tr>\n",
       "    <tr>\n",
       "      <th>3862</th>\n",
       "      <td>1</td>\n",
       "      <td>0</td>\n",
       "    </tr>\n",
       "    <tr>\n",
       "      <th>3863</th>\n",
       "      <td>0</td>\n",
       "      <td>1</td>\n",
       "    </tr>\n",
       "  </tbody>\n",
       "</table>\n",
       "<p>3864 rows × 2 columns</p>\n",
       "</div>"
      ],
      "text/plain": [
       "      Gender:Female  Gender:Male\n",
       "0                 0            1\n",
       "1                 0            1\n",
       "2                 0            1\n",
       "3                 0            1\n",
       "4                 1            0\n",
       "...             ...          ...\n",
       "3859              1            0\n",
       "3860              1            0\n",
       "3861              0            1\n",
       "3862              1            0\n",
       "3863              0            1\n",
       "\n",
       "[3864 rows x 2 columns]"
      ]
     },
     "execution_count": 12,
     "metadata": {},
     "output_type": "execute_result"
    }
   ],
   "source": [
    "gender_dummies = pd.get_dummies(exercises_df['Gender'], prefix='Gender', prefix_sep=':')\n",
    "gender_dummies  #Using pd.get_dummies() method with the mentioned prefix & prefix separator:"
   ]
  },
  {
   "cell_type": "markdown",
   "id": "e95f5700",
   "metadata": {},
   "source": [
    "Create Dummy Variables for Weather Conditions Column and Drop First Categorical Level\n",
    "\n",
    "\n",
    "Create dummy variables for the \"Weather Conditions\" column. Each variable should be prefixed with \"Weather:\" and separated by a colon \":\". Make sure to drop the first categorical level, but keep it as a level if the row has 0 in all categorical levels. Store the resulting dummy variables in the variable Weather_dummies."
   ]
  },
  {
   "cell_type": "code",
   "execution_count": 13,
   "id": "5bed0f7e",
   "metadata": {},
   "outputs": [
    {
     "data": {
      "text/html": [
       "<div>\n",
       "<style scoped>\n",
       "    .dataframe tbody tr th:only-of-type {\n",
       "        vertical-align: middle;\n",
       "    }\n",
       "\n",
       "    .dataframe tbody tr th {\n",
       "        vertical-align: top;\n",
       "    }\n",
       "\n",
       "    .dataframe thead th {\n",
       "        text-align: right;\n",
       "    }\n",
       "</style>\n",
       "<table border=\"1\" class=\"dataframe\">\n",
       "  <thead>\n",
       "    <tr style=\"text-align: right;\">\n",
       "      <th></th>\n",
       "      <th>Weather:Rainy</th>\n",
       "      <th>Weather:Sunny</th>\n",
       "    </tr>\n",
       "  </thead>\n",
       "  <tbody>\n",
       "    <tr>\n",
       "      <th>0</th>\n",
       "      <td>1</td>\n",
       "      <td>0</td>\n",
       "    </tr>\n",
       "    <tr>\n",
       "      <th>1</th>\n",
       "      <td>1</td>\n",
       "      <td>0</td>\n",
       "    </tr>\n",
       "    <tr>\n",
       "      <th>2</th>\n",
       "      <td>0</td>\n",
       "      <td>0</td>\n",
       "    </tr>\n",
       "    <tr>\n",
       "      <th>3</th>\n",
       "      <td>0</td>\n",
       "      <td>1</td>\n",
       "    </tr>\n",
       "    <tr>\n",
       "      <th>4</th>\n",
       "      <td>0</td>\n",
       "      <td>0</td>\n",
       "    </tr>\n",
       "    <tr>\n",
       "      <th>...</th>\n",
       "      <td>...</td>\n",
       "      <td>...</td>\n",
       "    </tr>\n",
       "    <tr>\n",
       "      <th>3859</th>\n",
       "      <td>0</td>\n",
       "      <td>0</td>\n",
       "    </tr>\n",
       "    <tr>\n",
       "      <th>3860</th>\n",
       "      <td>1</td>\n",
       "      <td>0</td>\n",
       "    </tr>\n",
       "    <tr>\n",
       "      <th>3861</th>\n",
       "      <td>1</td>\n",
       "      <td>0</td>\n",
       "    </tr>\n",
       "    <tr>\n",
       "      <th>3862</th>\n",
       "      <td>1</td>\n",
       "      <td>0</td>\n",
       "    </tr>\n",
       "    <tr>\n",
       "      <th>3863</th>\n",
       "      <td>1</td>\n",
       "      <td>0</td>\n",
       "    </tr>\n",
       "  </tbody>\n",
       "</table>\n",
       "<p>3864 rows × 2 columns</p>\n",
       "</div>"
      ],
      "text/plain": [
       "      Weather:Rainy  Weather:Sunny\n",
       "0                 1              0\n",
       "1                 1              0\n",
       "2                 0              0\n",
       "3                 0              1\n",
       "4                 0              0\n",
       "...             ...            ...\n",
       "3859              0              0\n",
       "3860              1              0\n",
       "3861              1              0\n",
       "3862              1              0\n",
       "3863              1              0\n",
       "\n",
       "[3864 rows x 2 columns]"
      ]
     },
     "execution_count": 13,
     "metadata": {},
     "output_type": "execute_result"
    }
   ],
   "source": [
    "#Using pd.get_dummies() method with the mentioned prefix & prefix separator with setting drop_first parameter to True:\n",
    "\n",
    "Weather_dummies = pd.get_dummies(exercises_df['Weather Conditions'], prefix='Weather', prefix_sep=':', drop_first=True)\n",
    "Weather_dummies"
   ]
  },
  {
   "cell_type": "markdown",
   "id": "880c07c4",
   "metadata": {},
   "source": [
    "Categorize Exercises by Intensity Level\n",
    "\n",
    "\n",
    "Create a new column called ExerciseIntensityCategory to categorize the exercises into four intensity levels: \"Low Intensity\" (0-0.25), \"Medium Intensity\" (0.25-0.50), \"Above-Medium Intensity\" (0.50-0.75), \"High Intensity\" (0.75-1) based on their exercise intensity values. Assign each exercise to an appropriate intensity level using the quantiles 0, 0.25, 0.5, 0.75, and 1."
   ]
  },
  {
   "cell_type": "code",
   "execution_count": 14,
   "id": "f7559a3f",
   "metadata": {},
   "outputs": [
    {
     "data": {
      "text/plain": [
       "0             Medium Intensity\n",
       "1             Medium Intensity\n",
       "2             Medium Intensity\n",
       "3               High Intensity\n",
       "4                Low Intensity\n",
       "                 ...          \n",
       "3859    Above-Medium Intensity\n",
       "3860          Medium Intensity\n",
       "3861            High Intensity\n",
       "3862             Low Intensity\n",
       "3863             Low Intensity\n",
       "Name: ExerciseIntensityCategory, Length: 3864, dtype: category\n",
       "Categories (4, object): ['Low Intensity' < 'Medium Intensity' < 'Above-Medium Intensity' < 'High Intensity']"
      ]
     },
     "execution_count": 14,
     "metadata": {},
     "output_type": "execute_result"
    }
   ],
   "source": [
    "exercises_df['ExerciseIntensityCategory'] = pd.qcut(exercises_df['Exercise Intensity'], q=[0, .25, .5, .75, 1], labels=[\"Low Intensity\", \"Medium Intensity\", \"Above-Medium Intensity\", \"High Intensity\"])\n",
    "exercises_df['ExerciseIntensityCategory'] "
   ]
  },
  {
   "cell_type": "markdown",
   "id": "7775af35",
   "metadata": {},
   "source": [
    "Categorize Exercises by Calorie Burn Level\n",
    "\n",
    "\n",
    "Create a new column called CalorieBurnCategory and assign each exercise to one of three categories based on the CaloriesBurn column: Low Calorie Burn: exercises with a low calorie burn rate Moderate Calorie Burn: exercises with a moderate calorie burn rate High Calorie Burn: exercises with a high calorie burn rate You should use 3 quantiles to determine the category boundaries. Store the category labels in the calorie_burn_bin_edges variable."
   ]
  },
  {
   "cell_type": "code",
   "execution_count": 15,
   "id": "bda89bcf",
   "metadata": {},
   "outputs": [
    {
     "data": {
      "text/plain": [
       "(0       Moderate Calorie Burn\n",
       " 1       Moderate Calorie Burn\n",
       " 2       Moderate Calorie Burn\n",
       " 3            Low Calorie Burn\n",
       " 4           High Calorie Burn\n",
       "                 ...          \n",
       " 3859         Low Calorie Burn\n",
       " 3860        High Calorie Burn\n",
       " 3861    Moderate Calorie Burn\n",
       " 3862         Low Calorie Burn\n",
       " 3863         Low Calorie Burn\n",
       " Name: CalorieBurnCategory, Length: 3864, dtype: category\n",
       " Categories (3, object): ['Low Calorie Burn' < 'Moderate Calorie Burn' < 'High Calorie Burn'],\n",
       " array([100.0094034 , 235.88890447, 369.18279033, 499.8592625 ]))"
      ]
     },
     "execution_count": 15,
     "metadata": {},
     "output_type": "execute_result"
    }
   ],
   "source": [
    "exercises_df['CalorieBurnCategory'], calorie_burn_bin_edges = pd.qcut(exercises_df['Calories Burn'], q=3, labels=[\"Low Calorie Burn\", \"Moderate Calorie Burn\", \"High Calorie Burn\"], retbins=True)\n",
    "exercises_df['CalorieBurnCategory'], calorie_burn_bin_edges"
   ]
  },
  {
   "cell_type": "markdown",
   "id": "93f9ce57",
   "metadata": {},
   "source": [
    "Categorize exercises into BMI categories with 3 quantiles\n",
    "\n",
    "\n",
    "Create a new column called BMICategory to categorize exercises as Underweight, Normal Weight, or Overweight based on their BMI. Use 3 quantiles to define the categories. Store the bin edges in the variable bmi_bin_edges."
   ]
  },
  {
   "cell_type": "code",
   "execution_count": 16,
   "id": "96cb110b",
   "metadata": {},
   "outputs": [
    {
     "data": {
      "text/plain": [
       "(0       Normal Weight\n",
       " 1         Underweight\n",
       " 2       Normal Weight\n",
       " 3          Overweight\n",
       " 4         Underweight\n",
       "             ...      \n",
       " 3859       Overweight\n",
       " 3860    Normal Weight\n",
       " 3861       Overweight\n",
       " 3862      Underweight\n",
       " 3863       Overweight\n",
       " Name: BMICategory, Length: 3864, dtype: category\n",
       " Categories (3, object): ['Underweight' < 'Normal Weight' < 'Overweight'],\n",
       " array([18.50001378, 24.1056762 , 29.56966931, 34.99663922]))"
      ]
     },
     "execution_count": 16,
     "metadata": {},
     "output_type": "execute_result"
    }
   ],
   "source": [
    "exercises_df['BMICategory'], bmi_bin_edges = pd.qcut(exercises_df['BMI'], q=3, labels=[\"Underweight\", \"Normal Weight\", \"Overweight\"], retbins=True)\n",
    "exercises_df['BMICategory'], bmi_bin_edges"
   ]
  },
  {
   "cell_type": "markdown",
   "id": "62e42504",
   "metadata": {},
   "source": [
    "Categorize Exercises by Intensity\n",
    "\n",
    "Create a new column called HeartRateZone and categorize the exercises based on their Heart rate into the Resting Zone,Fat-Burning Zone, or Cardio Zone. Use three quantiles to define the categories. Store the bin edges in the variable heart_rate_bin_edges"
   ]
  },
  {
   "cell_type": "code",
   "execution_count": 17,
   "id": "743a0f70",
   "metadata": {},
   "outputs": [
    {
     "data": {
      "text/plain": [
       "(0            Cardio Zone\n",
       " 1       Fat-Burning Zone\n",
       " 2       Fat-Burning Zone\n",
       " 3            Cardio Zone\n",
       " 4           Resting Zone\n",
       "               ...       \n",
       " 3859    Fat-Burning Zone\n",
       " 3860         Cardio Zone\n",
       " 3861         Cardio Zone\n",
       " 3862    Fat-Burning Zone\n",
       " 3863    Fat-Burning Zone\n",
       " Name: HeartRateZone, Length: 3864, dtype: category\n",
       " Categories (3, object): ['Resting Zone' < 'Fat-Burning Zone' < 'Cardio Zone'],\n",
       " array([100., 126., 153., 180.]))"
      ]
     },
     "execution_count": 17,
     "metadata": {},
     "output_type": "execute_result"
    }
   ],
   "source": [
    "exercises_df['HeartRateZone'], heart_rate_bin_edges = pd.qcut(exercises_df['Heart Rate'], q=3, labels=[\"Resting Zone\", \"Fat-Burning Zone\", \"Cardio Zone\"], retbins=True)\n",
    "exercises_df['HeartRateZone'], heart_rate_bin_edges "
   ]
  },
  {
   "cell_type": "markdown",
   "id": "afa5e03d",
   "metadata": {},
   "source": [
    "Analyze the relationship between BMI and exercise intensity or fitness metrics and calculate average Exercise Intensity for each BMICategory\n",
    "\n",
    "\n",
    "Calculate the average Exercise Intensity for each BMICategory and store the result in the variable bmi_exercise_frequency. This analysis will help us understand the relationship between BMI and exercise intensity or fitness metrics."
   ]
  },
  {
   "cell_type": "code",
   "execution_count": 18,
   "id": "5d36bbc5",
   "metadata": {},
   "outputs": [
    {
     "data": {
      "text/plain": [
       "BMICategory\n",
       "Underweight      5.471273\n",
       "Normal Weight    5.552795\n",
       "Overweight       5.347826\n",
       "Name: Exercise Intensity, dtype: float64"
      ]
     },
     "execution_count": 18,
     "metadata": {},
     "output_type": "execute_result"
    }
   ],
   "source": [
    "#Using groupby() method on the BMICategory column and taking average of Exercise Intensity using .mean() method:\n",
    "bmi_exercise_frequency = exercises_df.groupby('BMICategory')['Exercise Intensity'].mean()\n",
    "bmi_exercise_frequency "
   ]
  },
  {
   "cell_type": "markdown",
   "id": "f29e8f1f",
   "metadata": {},
   "source": [
    "Create a grouped bar chart to visualize the relation between CalorieBurnCategory & Exercise\n",
    "\n",
    "Store the resulting chart in the variable calories_exercises_count_chart & the grouped data in the variable exercises_count_data."
   ]
  },
  {
   "cell_type": "code",
   "execution_count": 19,
   "id": "df542cff",
   "metadata": {},
   "outputs": [
    {
     "data": {
      "text/html": [
       "<div>\n",
       "<style scoped>\n",
       "    .dataframe tbody tr th:only-of-type {\n",
       "        vertical-align: middle;\n",
       "    }\n",
       "\n",
       "    .dataframe tbody tr th {\n",
       "        vertical-align: top;\n",
       "    }\n",
       "\n",
       "    .dataframe thead th {\n",
       "        text-align: right;\n",
       "    }\n",
       "</style>\n",
       "<table border=\"1\" class=\"dataframe\">\n",
       "  <thead>\n",
       "    <tr style=\"text-align: right;\">\n",
       "      <th>Exercise</th>\n",
       "      <th>Exercise 1</th>\n",
       "      <th>Exercise 10</th>\n",
       "      <th>Exercise 2</th>\n",
       "      <th>Exercise 3</th>\n",
       "      <th>Exercise 4</th>\n",
       "      <th>Exercise 5</th>\n",
       "      <th>Exercise 6</th>\n",
       "      <th>Exercise 7</th>\n",
       "      <th>Exercise 8</th>\n",
       "      <th>Exercise 9</th>\n",
       "    </tr>\n",
       "    <tr>\n",
       "      <th>CalorieBurnCategory</th>\n",
       "      <th></th>\n",
       "      <th></th>\n",
       "      <th></th>\n",
       "      <th></th>\n",
       "      <th></th>\n",
       "      <th></th>\n",
       "      <th></th>\n",
       "      <th></th>\n",
       "      <th></th>\n",
       "      <th></th>\n",
       "    </tr>\n",
       "  </thead>\n",
       "  <tbody>\n",
       "    <tr>\n",
       "      <th>Low Calorie Burn</th>\n",
       "      <td>143</td>\n",
       "      <td>143</td>\n",
       "      <td>107</td>\n",
       "      <td>143</td>\n",
       "      <td>106</td>\n",
       "      <td>131</td>\n",
       "      <td>127</td>\n",
       "      <td>127</td>\n",
       "      <td>134</td>\n",
       "      <td>127</td>\n",
       "    </tr>\n",
       "    <tr>\n",
       "      <th>Moderate Calorie Burn</th>\n",
       "      <td>139</td>\n",
       "      <td>128</td>\n",
       "      <td>144</td>\n",
       "      <td>118</td>\n",
       "      <td>131</td>\n",
       "      <td>126</td>\n",
       "      <td>126</td>\n",
       "      <td>112</td>\n",
       "      <td>143</td>\n",
       "      <td>121</td>\n",
       "    </tr>\n",
       "    <tr>\n",
       "      <th>High Calorie Burn</th>\n",
       "      <td>121</td>\n",
       "      <td>127</td>\n",
       "      <td>94</td>\n",
       "      <td>124</td>\n",
       "      <td>134</td>\n",
       "      <td>147</td>\n",
       "      <td>128</td>\n",
       "      <td>147</td>\n",
       "      <td>120</td>\n",
       "      <td>146</td>\n",
       "    </tr>\n",
       "  </tbody>\n",
       "</table>\n",
       "</div>"
      ],
      "text/plain": [
       "Exercise               Exercise 1  Exercise 10  Exercise 2  Exercise 3  \\\n",
       "CalorieBurnCategory                                                      \n",
       "Low Calorie Burn              143          143         107         143   \n",
       "Moderate Calorie Burn         139          128         144         118   \n",
       "High Calorie Burn             121          127          94         124   \n",
       "\n",
       "Exercise               Exercise 4  Exercise 5  Exercise 6  Exercise 7  \\\n",
       "CalorieBurnCategory                                                     \n",
       "Low Calorie Burn              106         131         127         127   \n",
       "Moderate Calorie Burn         131         126         126         112   \n",
       "High Calorie Burn             134         147         128         147   \n",
       "\n",
       "Exercise               Exercise 8  Exercise 9  \n",
       "CalorieBurnCategory                            \n",
       "Low Calorie Burn              134         127  \n",
       "Moderate Calorie Burn         143         121  \n",
       "High Calorie Burn             120         146  "
      ]
     },
     "execution_count": 19,
     "metadata": {},
     "output_type": "execute_result"
    }
   ],
   "source": [
    "#Using .groupby() method on 'CalorieBurnCategory' & 'Exercise' columns:\n",
    "exercises_count_data = exercises_df.groupby(['CalorieBurnCategory', 'Exercise']).size().unstack()\n",
    "exercises_count_data "
   ]
  },
  {
   "cell_type": "code",
   "execution_count": 20,
   "id": "65746768",
   "metadata": {},
   "outputs": [
    {
     "data": {
      "text/plain": [
       "<Axes: xlabel='CalorieBurnCategory'>"
      ]
     },
     "execution_count": 20,
     "metadata": {},
     "output_type": "execute_result"
    },
    {
     "data": {
      "image/png": "[encoded data removed]",
      "text/plain": [
       "<Figure size 1000x600 with 1 Axes>"
      ]
     },
     "metadata": {},
     "output_type": "display_data"
    }
   ],
   "source": [
    "#Using this grouped data in the .plot() method to create the bar chart with setting the stacked parameter to True with a figure size of (10, 6):\n",
    "\n",
    "calories_exercises_count_chart = exercises_count_data.plot(kind='bar', stacked=True, figsize=(10, 6))\n",
    "calories_exercises_count_chart "
   ]
  },
  {
   "cell_type": "code",
   "execution_count": null,
   "id": "2d3e26ee",
   "metadata": {},
   "outputs": [],
   "source": []
  }
 ],
 "metadata": {
  "kernelspec": {
   "display_name": "Python 3 (ipykernel)",
   "language": "python",
   "name": "python3"
  },
  "language_info": {
   "codemirror_mode": {
    "name": "ipython",
    "version": 3
   },
   "file_extension": ".py",
   "mimetype": "text/x-python",
   "name": "python",
   "nbconvert_exporter": "python",
   "pygments_lexer": "ipython3",
   "version": "3.11.3"
  }
 },
 "nbformat": 4,
 "nbformat_minor": 5
}
